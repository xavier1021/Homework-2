{
 "cells": [
  {
   "cell_type": "code",
   "execution_count": null,
   "metadata": {},
   "outputs": [],
   "source": [
    "# 初始化流動性資料\n",
    "liquidity_pairs = {\n",
    "    (\"tokenA\", \"tokenB\"): (17, 10),\n",
    "    (\"tokenA\", \"tokenC\"): (11, 7),\n",
    "    (\"tokenA\", \"tokenD\"): (15, 9),\n",
    "    (\"tokenA\", \"tokenE\"): (21, 5),\n",
    "    (\"tokenB\", \"tokenC\"): (36, 4),\n",
    "    (\"tokenB\", \"tokenD\"): (13, 6),\n",
    "    (\"tokenB\", \"tokenE\"): (25, 3),\n",
    "    (\"tokenC\", \"tokenD\"): (30, 12),\n",
    "    (\"tokenC\", \"tokenE\"): (10, 8),\n",
    "    (\"tokenD\", \"tokenE\"): (60, 25),\n",
    "}\n",
    "# 添加逆向配對的流動性\n",
    "enhanced_liquidity = {}\n",
    "for pair, reserves in liquidity_pairs.items():\n",
    "    enhanced_liquidity[pair] = reserves\n",
    "    enhanced_liquidity[(pair[1], pair[0])] = (reserves[1], reserves[0])\n",
    "\n",
    "# 計算交換後的數量\n",
    "def calculate_amount_out(injected_amount, input_reserve, output_reserve):\n",
    "    adjusted_amount = injected_amount * 997\n",
    "    output_numerator = adjusted_amount * output_reserve\n",
    "    output_denominator = input_reserve * 1000 + adjusted_amount\n",
    "    return output_numerator / output_denominator\n",
    "\n",
    "# 執行交換操作\n",
    "def execute_swap(input_token, output_token, injected_amount, liquidity_data):\n",
    "    output_amount = calculate_amount_out(injected_amount, liquidity_data[(input_token, output_token)][0], liquidity_data[(input_token, output_token)][1])\n",
    "    liquidity_data[(input_token, output_token)] = (liquidity_data[(input_token, output_token)][0] + injected_amount, liquidity_data[(input_token, output_token)][1] - output_amount)\n",
    "    liquidity_data[(output_token, input_token)] = (liquidity_data[(input_token, output_token)][1], liquidity_data[(input_token, output_token)][0])\n",
    "\n",
    "# 尋找套利機會\n",
    "def find_arbitrage_opportunities(current_token, amount, transaction_path, visited_pairs, liquidity_data):\n",
    "    if current_token == \"tokenB\" and len(transaction_path) > 1:\n",
    "        return amount, transaction_path\n",
    "    temp_liquidity = liquidity_data.copy()\n",
    "    max_amount = 0\n",
    "    optimal_path = []\n",
    "    for (token1, token2), _ in temp_liquidity.items():\n",
    "        if token1 == current_token and (token1, token2) not in visited_pairs:\n",
    "            visited_pairs.add((token1, token2))\n",
    "            next_amount = calculate_amount_out(amount, temp_liquidity[(token1, token2)][0], temp_liquidity[(token1, token2)][1])\n",
    "            execute_swap(token1, token2, amount, temp_liquidity)\n",
    "            if next_amount > 0:\n",
    "                resulting_amount, path = find_arbitrage_opportunities(token2, next_amount, transaction_path + [token2], visited_pairs, temp_liquidity)\n",
    "                if resulting_amount > max_amount:\n",
    "                    max_amount = resulting_amount\n",
    "                    optimal_path = path\n",
    "            visited_pairs.remove((token1, token2))\n",
    "    return max_amount, optimal_path\n"
   ]
  },
  {
   "cell_type": "code",
   "execution_count": null,
   "metadata": {},
   "outputs": [],
   "source": [
    "bp = find_arbitrage_opportunities(\"tokenB\", 5, [\"tokenB\"], set(), newLq)[1]\n"
   ]
  },
  {
   "cell_type": "code",
   "execution_count": null,
   "metadata": {},
   "outputs": [],
   "source": [
    "for i in range(len(bp) - 1):\n",
    "    # address[] memory route = new address[](2);\n",
    "    #     route[0] = address(tokenB);\n",
    "    #     route[1] = address(tokenD);\n",
    "    print(f\"route[0] = address({bp[i]});\")\n",
    "    print(f\"route[1] = address({bp[i+1]});\")\n",
    "    print(f\"console.log({bp[i]}.balanceOf(arbitrager));\")\n",
    "    print(f\"router.swapExactTokensForTokens({bp[i]}.balanceOf(arbitrager), 0, route, arbitrager, block.timestamp);\")\n"
   ]
  }
 ],
 "metadata": {
  "language_info": {
   "name": "python"
  }
 },
 "nbformat": 4,
 "nbformat_minor": 2
}
